{
  "nbformat": 4,
  "nbformat_minor": 0,
  "metadata": {
    "colab": {
      "provenance": []
    },
    "kernelspec": {
      "name": "python3",
      "display_name": "Python 3"
    },
    "language_info": {
      "name": "python"
    }
  },
  "cells": [
    {
      "cell_type": "markdown",
      "source": [
        "#Cook Islands Maori Context Free Language Parsing\n",
        "Dartmouth College, LING48, Spring 2024<br>\n",
        "Samuel Peter (samuel.peter.25@dartmouth.edu)\n",
        "\n",
        "CFG rules can model the syntax of any human language. It uses the rules described in section 1.2 of this\n",
        "webpage: https://www.nltk.org/book/ch08.html. <br>\n",
        "Some recommendations:<br>\n",
        "(a) This language is Verb+Subject+Object, so you can’t make a single constituent that only includes the\n",
        "verb+object. Therefore, your VP cannot contain the object.2\n",
        "(b) The TAM words should be grouped with the verb inside of a VP.<br>\n",
        "(c) The preposition i marks the direct object. I suggest you treat this as a special phrase (e.g. NPOBJ)<br>"
      ],
      "metadata": {
        "id": "rYV6vxinzqMs"
      }
    },
    {
      "cell_type": "markdown",
      "source": [
        "##Step 1: Install nltk"
      ],
      "metadata": {
        "id": "P8mz2kug0nOj"
      }
    },
    {
      "cell_type": "code",
      "execution_count": 1,
      "metadata": {
        "colab": {
          "base_uri": "https://localhost:8080/"
        },
        "id": "P_f94g2acrn_",
        "outputId": "c2fdbdc3-3086-4333-8715-33c68f1a47a2"
      },
      "outputs": [
        {
          "output_type": "stream",
          "name": "stdout",
          "text": [
            "Requirement already satisfied: nltk in /usr/local/lib/python3.10/dist-packages (3.8.1)\n",
            "Requirement already satisfied: click in /usr/local/lib/python3.10/dist-packages (from nltk) (8.1.7)\n",
            "Requirement already satisfied: joblib in /usr/local/lib/python3.10/dist-packages (from nltk) (1.4.2)\n",
            "Requirement already satisfied: regex>=2021.8.3 in /usr/local/lib/python3.10/dist-packages (from nltk) (2023.12.25)\n",
            "Requirement already satisfied: tqdm in /usr/local/lib/python3.10/dist-packages (from nltk) (4.66.4)\n"
          ]
        }
      ],
      "source": [
        "pip install nltk"
      ]
    },
    {
      "cell_type": "markdown",
      "source": [
        "##Step 2: Import required packages"
      ],
      "metadata": {
        "id": "xfgRJoNw0qiU"
      }
    },
    {
      "cell_type": "code",
      "source": [
        "import nltk"
      ],
      "metadata": {
        "id": "pWJNVZePcwN1"
      },
      "execution_count": 2,
      "outputs": []
    },
    {
      "cell_type": "markdown",
      "source": [
        "##Step 3: Build the rules"
      ],
      "metadata": {
        "id": "A89Jg4tM00LC"
      }
    },
    {
      "cell_type": "code",
      "source": [
        "groucho_grammar = nltk.CFG.fromstring(\"\"\"\n",
        "S -> VP NP NPOBJ | VP NP PP | VP NP\n",
        "PP -> P NP\n",
        "NP -> Det N | Det N N | N N | N\n",
        "VP -> TAM V | TAM V TAM\n",
        "NPOBJ -> PREPACC NP\n",
        "\n",
        "Det -> 'a' | 'te'\n",
        "TAM -> 'Kua' | 'Te' | 'nei' | 'Kia' | 'E' | 'ana' | 'ake'\n",
        "N -> 'Tere' | 'taro' | \"va'ine\" | \"'are\" | 'maki' | 'kōtou' | 'kātoatoa' | 'koe' | \"'ānani\" | 'Rarotonga'\n",
        "V -> 'tunu' | \"'aere\" | 'orāna' | 'reka'\n",
        "PREPACC -> 'i'\n",
        "P -> 'ki'\n",
        "\"\"\")"
      ],
      "metadata": {
        "id": "D58MP1FAcy02"
      },
      "execution_count": 3,
      "outputs": []
    },
    {
      "cell_type": "markdown",
      "source": [
        "##Step 4: Build the parser"
      ],
      "metadata": {
        "id": "rwmpp_qx6zL1"
      }
    },
    {
      "cell_type": "code",
      "source": [
        "#Build nltk parser\n",
        "parser = nltk.ChartParser(groucho_grammar)"
      ],
      "metadata": {
        "id": "wGmyndyx63AA"
      },
      "execution_count": 4,
      "outputs": []
    },
    {
      "cell_type": "markdown",
      "source": [
        "##Step 5: Get the sentence orthography"
      ],
      "metadata": {
        "id": "jZrOsnrs68zC"
      }
    },
    {
      "cell_type": "code",
      "source": [
        "#Get words from the sentence\n",
        "sentence = \"Kua tunu a Tere i te taro\"\n",
        "sent = sentence.split()\n",
        "print(sent)\n",
        "\n",
        "#Get the tree\n",
        "for tree in parser.parse(sent):\n",
        "    print(tree)"
      ],
      "metadata": {
        "colab": {
          "base_uri": "https://localhost:8080/"
        },
        "id": "OkeTVmU2c1q1",
        "outputId": "2d8fa039-b30b-45cd-b343-5579f2980f4d"
      },
      "execution_count": 5,
      "outputs": [
        {
          "output_type": "stream",
          "name": "stdout",
          "text": [
            "['Kua', 'tunu', 'a', 'Tere', 'i', 'te', 'taro']\n",
            "(S\n",
            "  (VP (TAM Kua) (V tunu))\n",
            "  (NP (Det a) (N Tere))\n",
            "  (NPOBJ (PREPACC i) (NP (Det te) (N taro))))\n"
          ]
        }
      ]
    },
    {
      "cell_type": "code",
      "source": [
        "#Get words from the sentence\n",
        "sentence = \"Te 'aere nei te va'ine ki te 'are maki\"\n",
        "sent = sentence.split()\n",
        "print(sent)\n",
        "\n",
        "#Get the tree\n",
        "for tree in parser.parse(sent):\n",
        "    print(tree)"
      ],
      "metadata": {
        "colab": {
          "base_uri": "https://localhost:8080/"
        },
        "id": "-f2on72o1kg2",
        "outputId": "d2d9a091-cd3e-4043-a89c-ce5965015436"
      },
      "execution_count": 6,
      "outputs": [
        {
          "output_type": "stream",
          "name": "stdout",
          "text": [
            "['Te', \"'aere\", 'nei', 'te', \"va'ine\", 'ki', 'te', \"'are\", 'maki']\n",
            "(S\n",
            "  (VP (TAM Te) (V 'aere) (TAM nei))\n",
            "  (NP (Det te) (N va'ine))\n",
            "  (PP (P ki) (NP (Det te) (N 'are) (N maki))))\n"
          ]
        }
      ]
    },
    {
      "cell_type": "code",
      "source": [
        "#Get words from the sentence\n",
        "sentence = \"Kia orāna kōtou kātoatoa\"\n",
        "sent = sentence.split()\n",
        "print(sent)\n",
        "\n",
        "#Get the tree\n",
        "for tree in parser.parse(sent):\n",
        "    print(tree)"
      ],
      "metadata": {
        "colab": {
          "base_uri": "https://localhost:8080/"
        },
        "id": "FGddE2kG8dOS",
        "outputId": "5e7e849f-e92c-4ae1-8211-914701c43a63"
      },
      "execution_count": 7,
      "outputs": [
        {
          "output_type": "stream",
          "name": "stdout",
          "text": [
            "['Kia', 'orāna', 'kōtou', 'kātoatoa']\n",
            "(S (VP (TAM Kia) (V orāna)) (NP (N kōtou) (N kātoatoa)))\n"
          ]
        }
      ]
    },
    {
      "cell_type": "code",
      "source": [
        "#Get words from the sentence\n",
        "sentence = \"E reka ana koe i te 'ānani\"\n",
        "sent = sentence.split()\n",
        "print(sent)\n",
        "\n",
        "#Get the tree\n",
        "for tree in parser.parse(sent):\n",
        "    print(tree)"
      ],
      "metadata": {
        "id": "o7uMVmOT9LOE",
        "colab": {
          "base_uri": "https://localhost:8080/"
        },
        "outputId": "ef7eef9d-85f1-4031-ad6e-c1c4cc033aa9"
      },
      "execution_count": 8,
      "outputs": [
        {
          "output_type": "stream",
          "name": "stdout",
          "text": [
            "['E', 'reka', 'ana', 'koe', 'i', 'te', \"'ānani\"]\n",
            "(S\n",
            "  (VP (TAM E) (V reka) (TAM ana))\n",
            "  (NP (N koe))\n",
            "  (NPOBJ (PREPACC i) (NP (Det te) (N 'ānani))))\n"
          ]
        }
      ]
    },
    {
      "cell_type": "code",
      "source": [
        "#Get words from the sentence\n",
        "sentence = \"Kua 'aere ake koe ki Rarotonga\"\n",
        "sent = sentence.split()\n",
        "print(sent)\n",
        "\n",
        "#Get the tree\n",
        "for tree in parser.parse(sent):\n",
        "    print(tree)"
      ],
      "metadata": {
        "colab": {
          "base_uri": "https://localhost:8080/"
        },
        "id": "k5J9DdNK3LNX",
        "outputId": "aefd2d35-76e1-4288-e5a7-a374b6467f19"
      },
      "execution_count": 9,
      "outputs": [
        {
          "output_type": "stream",
          "name": "stdout",
          "text": [
            "['Kua', \"'aere\", 'ake', 'koe', 'ki', 'Rarotonga']\n",
            "(S\n",
            "  (VP (TAM Kua) (V 'aere) (TAM ake))\n",
            "  (NP (N koe))\n",
            "  (PP (P ki) (NP (N Rarotonga))))\n"
          ]
        }
      ]
    },
    {
      "cell_type": "code",
      "source": [],
      "metadata": {
        "id": "A9TMcRZx34jd"
      },
      "execution_count": 9,
      "outputs": []
    }
  ]
}