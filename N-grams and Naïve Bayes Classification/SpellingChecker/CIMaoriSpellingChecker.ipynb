{
  "nbformat": 4,
  "nbformat_minor": 0,
  "metadata": {
    "colab": {
      "provenance": []
    },
    "kernelspec": {
      "name": "python3",
      "display_name": "Python 3"
    },
    "language_info": {
      "name": "python"
    }
  },
  "cells": [
    {
      "cell_type": "markdown",
      "source": [
        "#Cook Islands Maori Spelling Checker\n",
        "\n",
        "Samuel Peter (samuel.peter.25@dartmouth.edu)<br>\n",
        "Accelerated Computational Linguistics(Spring 2024)"
      ],
      "metadata": {
        "id": "K9gV2Nm4cs3o"
      }
    },
    {
      "cell_type": "markdown",
      "source": [
        "##Step 1: Import the necessary packages"
      ],
      "metadata": {
        "id": "Ug6XfkZCklt1"
      }
    },
    {
      "cell_type": "code",
      "source": [
        "import re\n",
        "from collections import Counter"
      ],
      "metadata": {
        "id": "oMyzSlGPJ6WM"
      },
      "execution_count": 1,
      "outputs": []
    },
    {
      "cell_type": "markdown",
      "source": [
        "##Step 2: Get file name and words in the .txt file"
      ],
      "metadata": {
        "id": "XHffbHSckrAi"
      }
    },
    {
      "cell_type": "code",
      "source": [
        "def words(text): return re.findall(r'\\w+', text.lower())\n",
        "\n",
        "#Change filename here\n",
        "WORDS = Counter(words(open('big.txt').read()))"
      ],
      "metadata": {
        "id": "geOkxatrKGvy"
      },
      "execution_count": 2,
      "outputs": []
    },
    {
      "cell_type": "markdown",
      "source": [
        "##Step 3: Sample code from https://norvig.com/spell-correct.html"
      ],
      "metadata": {
        "id": "iqHDvUrkkxRZ"
      }
    },
    {
      "cell_type": "code",
      "execution_count": 3,
      "metadata": {
        "id": "KqjDhtj5y8GK"
      },
      "outputs": [],
      "source": [
        "def P(word, N=sum(WORDS.values())):\n",
        "    \"Probability of `word`.\"\n",
        "    return WORDS[word] / N\n",
        "\n",
        "## Function modified to return the top suggestion and list of possible suggestions\n",
        "def correction(word):\n",
        "    \"Most probable spelling correction for word.\"\n",
        "    candidates_list = candidates(word)\n",
        "    max_candidate = max(candidates_list, key=P)\n",
        "    return candidates_list, max_candidate\n",
        "\n",
        "def candidates(word):\n",
        "    \"Generate possible spelling corrections for word.\"\n",
        "    return (known([word]) or known(edits1(word)) or known(edits2(word)) or [word])\n",
        "\n",
        "def known(words):\n",
        "    \"The subset of `words` that appear in the dictionary of WORDS.\"\n",
        "    return set(w for w in words if w in WORDS)\n",
        "\n",
        "def edits1(word):\n",
        "    \"All edits that are one edit away from `word`.\"\n",
        "    letters    = 'abcdefghijklmnopqrstuvwxyz'\n",
        "    splits     = [(word[:i], word[i:])    for i in range(len(word) + 1)]\n",
        "    deletes    = [L + R[1:]               for L, R in splits if R]\n",
        "    transposes = [L + R[1] + R[0] + R[2:] for L, R in splits if len(R)>1]\n",
        "    replaces   = [L + c + R[1:]           for L, R in splits if R for c in letters]\n",
        "    inserts    = [L + c + R               for L, R in splits for c in letters]\n",
        "    return set(deletes + transposes + replaces + inserts)\n",
        "\n",
        "def edits2(word):\n",
        "    \"All edits that are two edits away from `word`.\"\n",
        "    return (e2 for e1 in edits1(word) for e2 in edits1(e1))"
      ]
    },
    {
      "cell_type": "markdown",
      "source": [
        "##Step 4: Test the sample code"
      ],
      "metadata": {
        "id": "kusdJLpDk-ZO"
      }
    },
    {
      "cell_type": "code",
      "source": [
        "candidates_list, max_candidate = correction('speling')\n",
        "print(max_candidate)"
      ],
      "metadata": {
        "id": "TkSU3JxqzceR",
        "colab": {
          "base_uri": "https://localhost:8080/"
        },
        "outputId": "9ec95289-e98b-415e-a69e-91e4609592e4"
      },
      "execution_count": 4,
      "outputs": [
        {
          "output_type": "stream",
          "name": "stdout",
          "text": [
            "spelling\n"
          ]
        }
      ]
    },
    {
      "cell_type": "code",
      "source": [
        "candidates_list, max_candidate = correction('korrectud')\n",
        "print(max_candidate)"
      ],
      "metadata": {
        "colab": {
          "base_uri": "https://localhost:8080/"
        },
        "id": "BOPKoq8jH3N0",
        "outputId": "bb043ac3-f50a-4614-8a5b-c61caec49e5d"
      },
      "execution_count": 5,
      "outputs": [
        {
          "output_type": "stream",
          "name": "stdout",
          "text": [
            "corrected\n"
          ]
        }
      ]
    },
    {
      "cell_type": "markdown",
      "source": [
        "##Step 5: Change the file to the Cook Islands Maori text file for training the model"
      ],
      "metadata": {
        "id": "_AJL0sdQlIeL"
      }
    },
    {
      "cell_type": "code",
      "source": [
        "WORDS = Counter(words(open('cim-sentences.txt').read()))"
      ],
      "metadata": {
        "id": "hOiTU8BWH9Jk"
      },
      "execution_count": 6,
      "outputs": []
    },
    {
      "cell_type": "markdown",
      "source": [
        "##Step 6: Test the model with Maori words"
      ],
      "metadata": {
        "id": "Jd8gf7lQldba"
      }
    },
    {
      "cell_type": "code",
      "source": [
        "candidates_list, max_candidate = correction('kotoo')\n",
        "print(max_candidate)"
      ],
      "metadata": {
        "colab": {
          "base_uri": "https://localhost:8080/"
        },
        "id": "9Jn9I-qzQbOE",
        "outputId": "a93528e1-a701-4f70-d42f-807293842b77"
      },
      "execution_count": 7,
      "outputs": [
        {
          "output_type": "stream",
          "name": "stdout",
          "text": [
            "kotou\n"
          ]
        }
      ]
    },
    {
      "cell_type": "code",
      "source": [
        "candidates_list, max_candidate = correction('aere')\n",
        "print(max_candidate)\n",
        "print(candidates_list)"
      ],
      "metadata": {
        "colab": {
          "base_uri": "https://localhost:8080/"
        },
        "id": "CZJB0eDSMtdu",
        "outputId": "fc5d62cf-33a0-4143-e2b7-476430cf8c49"
      },
      "execution_count": 8,
      "outputs": [
        {
          "output_type": "stream",
          "name": "stdout",
          "text": [
            "qaere\n",
            "{'qaere', 'rere', 'tere', 'mere'}\n"
          ]
        }
      ]
    },
    {
      "cell_type": "markdown",
      "source": [
        "##Step 6: Method to go through each token in the sentence and correct any misspellings while accounting for punctuations"
      ],
      "metadata": {
        "id": "LO1EVACKnVjB"
      }
    },
    {
      "cell_type": "code",
      "source": [
        "#Method: autocorrect - method to check the spelling of Maori words from user input\n",
        "#Parameters: raw_tokens - list of words, with punctuations, from users' input\n",
        "#            line       - user's input\n",
        "def autocorrect(line, raw_tokens):\n",
        "  print(\"Sentence before processing the tokens: \")\n",
        "  print(line)\n",
        "  print(\"\")\n",
        "\n",
        "  x = \"\"    #temp variable\n",
        "  processed_tokens = \"\" #string to store corrected sentence\n",
        "  candidates_list = []  #list to store possible suggestions for misspelling\n",
        "  max_candidate = \"\"    #variable to store most likely suggestion\n",
        "\n",
        "  #Loop for each token\n",
        "  for token in raw_tokens:\n",
        "    #Make sure it is a word and not a special character and remove punctuation at the end of the word simultaneously\n",
        "    last_char = token[-1]\n",
        "    if not last_char.isalpha():\n",
        "\n",
        "      x = token[0:len(token)-1]\n",
        "      #Convert to lower case and correct spelling if needed\n",
        "      candidates_list, max_candidate = correction(x.lower())\n",
        "      #Add punction back at the end of the word\n",
        "      max_candidate = max_candidate + last_char\n",
        "\n",
        "    else:\n",
        "\n",
        "      x = token\n",
        "      #Convert to lower case and correct spelling if needed\n",
        "      candidates_list, max_candidate = correction(x.lower())\n",
        "\n",
        "\n",
        "    #Add capitalization if the start of the token we checked was capitalized\n",
        "    if token[0].isupper():\n",
        "      max_candidate = max_candidate[0].upper() + max_candidate[1:]\n",
        "    #Print possible suggestions if there is more than one item in candidates list, indicating a spelling error\n",
        "    if token != max_candidate:\n",
        "      print(\"=== Possible misspelling ===\")\n",
        "      print(token, \": \", candidates_list)\n",
        "    #Finally add max_candidate to the list of processed tokens\n",
        "    processed_tokens = processed_tokens + \" \" + max_candidate\n",
        "\n",
        "  print()\n",
        "  print(\"Autocorrected sentence after processing the tokens: \")\n",
        "  print(processed_tokens)\n"
      ],
      "metadata": {
        "id": "bTQEOWC4mba5"
      },
      "execution_count": 9,
      "outputs": []
    },
    {
      "cell_type": "markdown",
      "source": [
        "##Step 7: Get user input in Cook Islands Maori to check for spelling"
      ],
      "metadata": {
        "id": "-XIeqgWJmFpQ"
      }
    },
    {
      "cell_type": "code",
      "source": [
        "print(\"Please write a sentence in Cook Islands Maori and press ENTER to check the spelling: \")\n",
        "line = input()  #Kia orana kotoo mai i Rarotoga!\n",
        "print()\n",
        "raw_tokens = line.split()\n",
        "autocorrect(line, raw_tokens)"
      ],
      "metadata": {
        "colab": {
          "base_uri": "https://localhost:8080/"
        },
        "id": "PVhVvPx1ltuB",
        "outputId": "e9820116-856d-4106-b567-a7a8b2988606"
      },
      "execution_count": 10,
      "outputs": [
        {
          "output_type": "stream",
          "name": "stdout",
          "text": [
            "Please write a sentence in Cook Islands Maori and press ENTER to check the spelling: \n",
            "Kia orana kotoo mai i Rarotoga!\n",
            "\n",
            "Sentence before processing the tokens: \n",
            "Kia orana kotoo mai i Rarotoga!\n",
            "\n",
            "=== Possible misspelling ===\n",
            "kotoo :  {'kotou'}\n",
            "=== Possible misspelling ===\n",
            "Rarotoga! :  {'rarotonga'}\n",
            "\n",
            "Autocorrected sentence after processing the tokens: \n",
            " Kia orana kotou mai i Rarotonga!\n"
          ]
        }
      ]
    },
    {
      "cell_type": "code",
      "source": [
        "print(\"Please write a sentence in Cook Islands Maori and press ENTER to check the spelling: \")\n",
        "line = input()  #Kua aere au ki Mauke.\n",
        "print()\n",
        "raw_tokens = line.split()\n",
        "autocorrect(line, raw_tokens)"
      ],
      "metadata": {
        "id": "xZ58Ud-wn0vh",
        "colab": {
          "base_uri": "https://localhost:8080/"
        },
        "outputId": "2e47070d-f469-4681-b304-cb3cb10b07cd"
      },
      "execution_count": 11,
      "outputs": [
        {
          "output_type": "stream",
          "name": "stdout",
          "text": [
            "Please write a sentence in Cook Islands Maori and press ENTER to check the spelling: \n",
            "Kua aere au ki Mauke.\n",
            "\n",
            "Sentence before processing the tokens: \n",
            "Kua aere au ki Mauke.\n",
            "\n",
            "=== Possible misspelling ===\n",
            "aere :  {'qaere', 'rere', 'tere', 'mere'}\n",
            "=== Possible misspelling ===\n",
            "Mauke. :  {'maquke'}\n",
            "\n",
            "Autocorrected sentence after processing the tokens: \n",
            " Kua qaere au ki Maquke.\n"
          ]
        }
      ]
    },
    {
      "cell_type": "code",
      "source": [],
      "metadata": {
        "id": "K3E_kxd5lScd"
      },
      "execution_count": 11,
      "outputs": []
    }
  ]
}