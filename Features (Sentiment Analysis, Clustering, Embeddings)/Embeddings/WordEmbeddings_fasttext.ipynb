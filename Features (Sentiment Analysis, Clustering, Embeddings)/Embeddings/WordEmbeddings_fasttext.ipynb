{
  "nbformat": 4,
  "nbformat_minor": 0,
  "metadata": {
    "colab": {
      "provenance": [],
      "gpuType": "V28"
    },
    "kernelspec": {
      "name": "python3",
      "display_name": "Python 3"
    },
    "language_info": {
      "name": "python"
    },
    "accelerator": "TPU"
  },
  "cells": [
    {
      "cell_type": "markdown",
      "metadata": {
        "id": "tKDwQorvrSRJ"
      },
      "source": [
        "# Example: Vectorial arithmetic using Embeddings\n",
        "Dartmouth College, LING48/CS72, Spring 2024<br>\n",
        "Samuel Peter (samuel.peter.25@dartmouth.edu)\n",
        "\n",
        "This notebook uses a variant of Word2Vec called [FastText](https://fasttext.cc/docs/en/crawl-vectors.html), which learns both words and subword units. The script downloads a collection of embeddings (the .bin file) and then performs operations like analogies, similarity measurements, and \"odd-one-out\" operations.\n",
        "\n",
        "The notebook also has code to generate a tSNE chart for a sequence of words.\n",
        "\n",
        "You can learn more about the details of the code below here:<br>\n",
        "https://samyzaf.com/ML/nlp/nlp.html\n",
        "\n",
        "I got the visualization code from here:<br>\n",
        "https://radimrehurek.com/gensim/auto_examples/tutorials/run_word2vec.html\n",
        "\n",
        "You can learn more about word2vec here:<br>\n",
        "http://jalammar.github.io/illustrated-word2vec/"
      ]
    },
    {
      "cell_type": "code",
      "source": [
        "#=========================================================\n",
        "# Install fasttext model loaders\n",
        "# https://fasttext.cc/\n",
        "#=========================================================\n",
        "\n",
        "!pip install fasttext"
      ],
      "metadata": {
        "id": "bTGXbtoBsjfq",
        "colab": {
          "base_uri": "https://localhost:8080/"
        },
        "outputId": "1e2db5c6-ab07-4f5b-fccf-b7ebcd958aa1"
      },
      "execution_count": null,
      "outputs": [
        {
          "output_type": "stream",
          "name": "stdout",
          "text": [
            "Collecting fasttext\n",
            "  Downloading fasttext-0.9.2.tar.gz (68 kB)\n",
            "\u001b[2K     \u001b[90m━━━━━━━━━━━━━━━━━━━━━━━━━━━━━━━━━━━━━━━━\u001b[0m \u001b[32m68.8/68.8 kB\u001b[0m \u001b[31m1.7 MB/s\u001b[0m eta \u001b[36m0:00:00\u001b[0m\n",
            "\u001b[?25h  Preparing metadata (setup.py) ... \u001b[?25l\u001b[?25hdone\n",
            "Collecting pybind11>=2.2 (from fasttext)\n",
            "  Using cached pybind11-2.12.0-py3-none-any.whl (234 kB)\n",
            "Requirement already satisfied: setuptools>=0.7.0 in /usr/local/lib/python3.10/dist-packages (from fasttext) (67.7.2)\n",
            "Requirement already satisfied: numpy in /usr/local/lib/python3.10/dist-packages (from fasttext) (1.25.2)\n",
            "Building wheels for collected packages: fasttext\n",
            "  Building wheel for fasttext (setup.py) ... \u001b[?25l\u001b[?25hdone\n",
            "  Created wheel for fasttext: filename=fasttext-0.9.2-cp310-cp310-linux_x86_64.whl size=4227140 sha256=a49392ba91d1d8b4d401da465aff0fe195aa98a8068e8d4a5ab7cdf99c694d25\n",
            "  Stored in directory: /root/.cache/pip/wheels/a5/13/75/f811c84a8ab36eedbaef977a6a58a98990e8e0f1967f98f394\n",
            "Successfully built fasttext\n",
            "Installing collected packages: pybind11, fasttext\n",
            "Successfully installed fasttext-0.9.2 pybind11-2.12.0\n"
          ]
        }
      ]
    },
    {
      "cell_type": "code",
      "source": [
        "#=========================================================\n",
        "# Load libraries\n",
        "#=========================================================\n",
        "\n",
        "import fasttext\n",
        "import fasttext.util\n",
        "from sklearn.manifold import TSNE\n",
        "import numpy as np"
      ],
      "metadata": {
        "id": "PAdCl7p8vUZe"
      },
      "execution_count": null,
      "outputs": []
    },
    {
      "cell_type": "code",
      "source": [
        "#=========================================================\n",
        "# There are 157 languages available. In this assignment,\n",
        "# I will be using Sinhalese.\n",
        "# https://fasttext.cc/docs/en/crawl-vectors.html\n",
        "#\n",
        "# Loading this might take 1~3 minutes.\n",
        "#=========================================================\n",
        "\n",
        "!curl -o es.bin.gz https://dl.fbaipublicfiles.com/fasttext/vectors-crawl/cc.es.300.bin.gz\n",
        "!gzip -d es.bin.gz"
      ],
      "metadata": {
        "id": "C3O6kVFyslDM",
        "colab": {
          "base_uri": "https://localhost:8080/"
        },
        "outputId": "effdc759-2e2d-4634-af97-277028c624af"
      },
      "execution_count": null,
      "outputs": [
        {
          "output_type": "stream",
          "name": "stdout",
          "text": [
            "  % Total    % Received % Xferd  Average Speed   Time    Time     Time  Current\n",
            "                                 Dload  Upload   Total   Spent    Left  Speed\n",
            "100 4291M  100 4291M    0     0   145M      0  0:00:29  0:00:29 --:--:--  250M\n"
          ]
        }
      ]
    },
    {
      "cell_type": "code",
      "source": [
        "#=============================================================\n",
        "# Load model into memory\n",
        "#=============================================================\n",
        "\n",
        "embeddings = fasttext.load_model('es.bin')\n",
        "print(embeddings.get_dimension())"
      ],
      "metadata": {
        "id": "slcSttA3tXNk",
        "colab": {
          "base_uri": "https://localhost:8080/"
        },
        "outputId": "acf5a83b-0ca2-4db6-8cd7-b4647d4e2d92"
      },
      "execution_count": null,
      "outputs": [
        {
          "output_type": "stream",
          "name": "stdout",
          "text": [
            "300\n"
          ]
        },
        {
          "output_type": "stream",
          "name": "stderr",
          "text": [
            "Warning : `load_model` does not return WordVectorModel or SupervisedModel any more, but a `FastText` object which is very similar.\n"
          ]
        }
      ]
    },
    {
      "cell_type": "code",
      "source": [
        "#=============================================================\n",
        "# Most similar word\n",
        "#=============================================================\n",
        "\n",
        "print(\"Top 25 words most similar to hombre(man): \")\n",
        "embeddings.get_nearest_neighbors('hombre', k=25)        #man"
      ],
      "metadata": {
        "id": "RusVIe6Tu69u",
        "colab": {
          "base_uri": "https://localhost:8080/"
        },
        "outputId": "cae04f9f-5eb9-46b5-cf58-b0ed6bd72bc4"
      },
      "execution_count": null,
      "outputs": [
        {
          "output_type": "stream",
          "name": "stdout",
          "text": [
            "Top 25 words most similar to hombre(man): \n"
          ]
        },
        {
          "output_type": "execute_result",
          "data": {
            "text/plain": [
              "[(0.6985235214233398, 'hombre.El'),\n",
              " (0.6847670078277588, 'mujer'),\n",
              " (0.6824022531509399, 'varón'),\n",
              " (0.6381804943084717, 'unhombre'),\n",
              " (0.6375911831855774, 'Hombre'),\n",
              " (0.6296564936637878, 'individuo'),\n",
              " (0.6243440508842468, 'humano'),\n",
              " (0.6197197437286377, 'elhombre'),\n",
              " (0.618654727935791, 'muchacho'),\n",
              " (0.6134461164474487, 'hombres'),\n",
              " (0.6023065447807312, 'hombre.Este'),\n",
              " (0.5991070866584778, 'no-hombre'),\n",
              " (0.5958799719810486, 'hombra'),\n",
              " (0.5950770974159241, 'hombre.Pero'),\n",
              " (0.5942564010620117, 'hombre.En'),\n",
              " (0.5892860293388367, 'hombre.Es'),\n",
              " (0.5885716676712036, 'niño-hombre'),\n",
              " (0.5856088399887085, 'hombre.La'),\n",
              " (0.584286093711853, 'hombre-'),\n",
              " (0.5841028690338135, 'mujer.El'),\n",
              " (0.58305823802948, 'hombre.Y'),\n",
              " (0.5821053981781006, 'chico'),\n",
              " (0.580610454082489, 'anciano'),\n",
              " (0.580307126045227, 'joven'),\n",
              " (0.5799315571784973, 'hombrees')]"
            ]
          },
          "metadata": {},
          "execution_count": 5
        }
      ]
    },
    {
      "cell_type": "code",
      "source": [
        "#=============================================================\n",
        "# Most similar word\n",
        "#=============================================================\n",
        "\n",
        "print(\"Top 25 words most similar to mujer(woman): \")\n",
        "embeddings.get_nearest_neighbors('mujer', k=25)   #woman"
      ],
      "metadata": {
        "colab": {
          "base_uri": "https://localhost:8080/"
        },
        "id": "H73PubDJet4o",
        "outputId": "3daa4758-31b1-4641-f39b-35d749534298"
      },
      "execution_count": null,
      "outputs": [
        {
          "output_type": "stream",
          "name": "stdout",
          "text": [
            "Top 25 words most similar to mujer(woman): \n"
          ]
        },
        {
          "output_type": "execute_result",
          "data": {
            "text/plain": [
              "[(0.7110328078269958, 'mujer.La'),\n",
              " (0.6897695064544678, 'mujermujer'),\n",
              " (0.6861298084259033, 'mujer.Pero'),\n",
              " (0.684766948223114, 'hombre'),\n",
              " (0.6845912933349609, 'muchacha'),\n",
              " (0.6795122623443604, 'fémina'),\n",
              " (0.6703848242759705, 'lamujer'),\n",
              " (0.6586087942123413, 'esposa'),\n",
              " (0.6574076414108276, 'chica'),\n",
              " (0.6479310989379883, 'niña'),\n",
              " (0.6458329558372498, 'dama'),\n",
              " (0.6451638340950012, 'unamujer'),\n",
              " (0.6437935829162598, 'mujera'),\n",
              " (0.6435273885726929, 'Mujer'),\n",
              " (0.6399717926979065, 'mujer-mujer'),\n",
              " (0.6391507983207703, 'mujer.Es'),\n",
              " (0.6384367346763611, 'mujer.Esta'),\n",
              " (0.6358761787414551, 'varón'),\n",
              " (0.634837806224823, 'hija'),\n",
              " (0.6306506991386414, 'mujerde'),\n",
              " (0.6281776428222656, 'mujer.El'),\n",
              " (0.6268007755279541, 'persona'),\n",
              " (0.6255276203155518, 'mujer.Una'),\n",
              " (0.6250082850456238, 'mujer.En'),\n",
              " (0.6209526062011719, 'hombruna')]"
            ]
          },
          "metadata": {},
          "execution_count": 6
        }
      ]
    },
    {
      "cell_type": "code",
      "source": [
        "#=============================================================\n",
        "# Analogy\n",
        "# rey(King) is to hombre(man) as mujer(woman) is to _____\n",
        "#=============================================================\n",
        "\n",
        "print(\"rey(King) is to hombre(man) as mujer(woman) is to _____\")\n",
        "embeddings.get_analogies(\"rey\", \"hombre\", \"mujer\", k=25)"
      ],
      "metadata": {
        "id": "-V7J983Hu66d",
        "colab": {
          "base_uri": "https://localhost:8080/"
        },
        "outputId": "5a3fd61c-375a-4061-b7aa-2f1760b816ce"
      },
      "execution_count": null,
      "outputs": [
        {
          "output_type": "stream",
          "name": "stdout",
          "text": [
            "rey(King) is to hombre(man) as mujer(woman) is to _____\n"
          ]
        },
        {
          "output_type": "execute_result",
          "data": {
            "text/plain": [
              "[(0.6996281743049622, 'reina'),\n",
              " (0.6584349870681763, 'princesa'),\n",
              " (0.578596293926239, 'reina-madre'),\n",
              " (0.5746439695358276, 'monarca'),\n",
              " (0.5572191476821899, 'emperatriz'),\n",
              " (0.5523837804794312, 'Rey'),\n",
              " (0.5444003939628601, 'reyes'),\n",
              " (0.5441058278083801, 'hija'),\n",
              " (0.5410926938056946, 'Reina'),\n",
              " (0.5355700254440308, 'consorte'),\n",
              " (0.5331939458847046, 'infanta'),\n",
              " (0.5261333584785461, 'reina-viuda'),\n",
              " (0.5260338187217712, 'esposa'),\n",
              " (0.5179920792579651, 'príncipe'),\n",
              " (0.5175434947013855, 'dama'),\n",
              " (0.517275333404541, 'infanta-reina'),\n",
              " (0.5155842304229736, 'emperadora'),\n",
              " (0.515200674533844, 'lareina'),\n",
              " (0.5045839548110962, 'laprincesa'),\n",
              " (0.504417359828949, 'virreina'),\n",
              " (0.5041970610618591, 'reyna'),\n",
              " (0.5037978887557983, 'realeza'),\n",
              " (0.502633273601532, 'monarquía'),\n",
              " (0.5008916258811951, 'reinona'),\n",
              " (0.4997826814651489, 'emperatríz')]"
            ]
          },
          "metadata": {},
          "execution_count": 7
        }
      ]
    },
    {
      "cell_type": "markdown",
      "source": [
        "reina is the representation of queen in Spanish. From the output received, we can see that the word queen has been included in the results. We can also see that model was able to capture different variations of the word as well, like reyna and Reina."
      ],
      "metadata": {
        "id": "kksv9Oirczz4"
      }
    },
    {
      "cell_type": "code",
      "source": [
        "#=============================================================================\n",
        "# tSNE plot. Based on code from:\n",
        "# https://radimrehurek.com/gensim/auto_examples/tutorials/run_word2vec.html\n",
        "#=============================================================================\n",
        "\n",
        "def reduce_dimensions(model, words):\n",
        "\n",
        "    # extract the words & their vectors, as numpy arrays\n",
        "    wordVectors = []\n",
        "\n",
        "    for w in words:\n",
        "      wordVectors.append(embeddings.get_word_vector(w))\n",
        "\n",
        "    vectors = np.asarray(wordVectors)\n",
        "    labels = np.asarray(words)\n",
        "\n",
        "    # reduce using t-SNE\n",
        "    tsne = TSNE(n_components=2, random_state=1, perplexity=3)\n",
        "    vectors = tsne.fit_transform(vectors)\n",
        "\n",
        "    x_vals = [v[0] for v in vectors]\n",
        "    y_vals = [v[1] for v in vectors]\n",
        "    return x_vals, y_vals, labels\n",
        "\n",
        "def plot_with_matplotlib(x_vals, y_vals, labels):\n",
        "    import matplotlib.pyplot as plt\n",
        "    import random\n",
        "\n",
        "    random.seed(0)\n",
        "\n",
        "    plt.figure(figsize=(12, 12))\n",
        "    plt.scatter(x_vals, y_vals)\n",
        "\n",
        "    indices = list(range(len(labels)))\n",
        "    for i in indices:\n",
        "      plt.annotate(labels[i], (x_vals[i], y_vals[i]))\n",
        "      #plt.annotate(labels[i], (x_vals[i], y_vals[i]), fontproperties=fprop)    # Uncomment this line for CJK fonts"
      ],
      "metadata": {
        "id": "5k21hmN2yvC9"
      },
      "execution_count": null,
      "outputs": []
    },
    {
      "cell_type": "code",
      "source": [
        "#=============================================================================\n",
        "# Draw tSNE chart for individual words\n",
        "#=============================================================================\n",
        "\n",
        "wordsInChart = ['hombre', 'mujer','rey','reina','nino', 'nina','chico','chica']\n",
        "x_vals, y_vals, labels = reduce_dimensions(embeddings, wordsInChart)\n",
        "plot_with_matplotlib(x_vals, y_vals, labels)"
      ],
      "metadata": {
        "id": "j7CfsG9-zpAm",
        "colab": {
          "base_uri": "https://localhost:8080/",
          "height": 938
        },
        "outputId": "72478ff8-7ce2-468b-cb95-aa798dc00e3c"
      },
      "execution_count": null,
      "outputs": [
        {
          "output_type": "display_data",
          "data": {
            "text/plain": [
              "<Figure size 1200x1200 with 1 Axes>"
            ],
            "image/png": "[encoded data removed]"
          },
          "metadata": {}
        }
      ]
    },
    {
      "cell_type": "code",
      "source": [],
      "metadata": {
        "id": "5T6FeCJJM0kk"
      },
      "execution_count": null,
      "outputs": []
    }
  ]
}