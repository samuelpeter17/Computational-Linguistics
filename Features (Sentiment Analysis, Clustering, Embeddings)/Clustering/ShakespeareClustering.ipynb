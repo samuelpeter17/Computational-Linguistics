{
  "nbformat": 4,
  "nbformat_minor": 0,
  "metadata": {
    "colab": {
      "provenance": []
    },
    "kernelspec": {
      "name": "python3",
      "display_name": "Python 3"
    },
    "language_info": {
      "name": "python"
    }
  },
  "cells": [
    {
      "cell_type": "markdown",
      "metadata": {
        "id": "4uXg1TZGYFvW"
      },
      "source": [
        "# Clustering Shakespeare\n",
        "Dartmouth College, LING48, Spring 2024<br>\n",
        "Samuel Peter (samuel.peter.25@dartmouth.edu)\n",
        "\n",
        "<br>\n",
        "In this program, I look at Shakespeare's plays and split them into 10 clusters based on content."
      ]
    },
    {
      "cell_type": "markdown",
      "source": [
        "##Install necessary packages first"
      ],
      "metadata": {
        "id": "Qv4T_pWq55xo"
      }
    },
    {
      "cell_type": "code",
      "source": [
        "!pip install --upgrade scikit-learn"
      ],
      "metadata": {
        "colab": {
          "base_uri": "https://localhost:8080/"
        },
        "id": "0_ZDWTcG5pNh",
        "outputId": "54d9767d-faac-4542-f254-90bdb85402ea"
      },
      "execution_count": null,
      "outputs": [
        {
          "output_type": "stream",
          "name": "stdout",
          "text": [
            "Requirement already satisfied: scikit-learn in /usr/local/lib/python3.10/dist-packages (1.4.2)\n",
            "Requirement already satisfied: numpy>=1.19.5 in /usr/local/lib/python3.10/dist-packages (from scikit-learn) (1.25.2)\n",
            "Requirement already satisfied: scipy>=1.6.0 in /usr/local/lib/python3.10/dist-packages (from scikit-learn) (1.11.4)\n",
            "Requirement already satisfied: joblib>=1.2.0 in /usr/local/lib/python3.10/dist-packages (from scikit-learn) (1.4.0)\n",
            "Requirement already satisfied: threadpoolctl>=2.0.0 in /usr/local/lib/python3.10/dist-packages (from scikit-learn) (3.4.0)\n"
          ]
        }
      ]
    },
    {
      "cell_type": "code",
      "metadata": {
        "id": "XJkzs68uWJQQ"
      },
      "source": [
        "import gdown\n",
        "from sklearn.feature_extraction.text import TfidfVectorizer\n",
        "from sklearn.cluster import KMeans\n",
        "from sklearn.metrics import adjusted_rand_score\n",
        "from scipy.sparse import csr_matrix\n",
        "import numpy as np\n",
        "import scipy.cluster.hierarchy as sch\n",
        "import matplotlib.pyplot as plt"
      ],
      "execution_count": null,
      "outputs": []
    },
    {
      "cell_type": "markdown",
      "metadata": {
        "id": "bQVypH8FYfUx"
      },
      "source": [
        "Download Shakespeare text and play names"
      ]
    },
    {
      "cell_type": "code",
      "metadata": {
        "id": "YsyfFB-RWww7",
        "colab": {
          "base_uri": "https://localhost:8080/",
          "height": 174
        },
        "outputId": "e3b1df2c-f0db-47b3-c7ec-1b119da6c968"
      },
      "source": [
        "# Download Shakespeare files\n",
        "url = \"https://drive.google.com/uc?id=1Z-AZIyDftMdCd-daRvcjaJeTHbZuTVCX\"\n",
        "gdown.download(url, 'shakespeare.txt', quiet=False)\n",
        "url = \"https://drive.google.com/uc?id=19NHhazc-CQuGZQeZizDkv83O_rhxu4PO\"\n",
        "gdown.download(url, 'shakespearePlayTitles.txt', quiet=False)"
      ],
      "execution_count": null,
      "outputs": [
        {
          "output_type": "stream",
          "name": "stderr",
          "text": [
            "Downloading...\n",
            "From: https://drive.google.com/uc?id=1Z-AZIyDftMdCd-daRvcjaJeTHbZuTVCX\n",
            "To: /content/shakespeare.txt\n",
            "100%|██████████| 5.63M/5.63M [00:00<00:00, 36.9MB/s]\n",
            "Downloading...\n",
            "From: https://drive.google.com/uc?id=19NHhazc-CQuGZQeZizDkv83O_rhxu4PO\n",
            "To: /content/shakespearePlayTitles.txt\n",
            "100%|██████████| 569/569 [00:00<00:00, 1.58MB/s]\n"
          ]
        },
        {
          "output_type": "execute_result",
          "data": {
            "text/plain": [
              "'shakespearePlayTitles.txt'"
            ],
            "application/vnd.google.colaboratory.intrinsic+json": {
              "type": "string"
            }
          },
          "metadata": {},
          "execution_count": 3
        }
      ]
    },
    {
      "cell_type": "markdown",
      "metadata": {
        "id": "bzGEqc98YkcJ"
      },
      "source": [
        "1. Read files and split the lines"
      ]
    },
    {
      "cell_type": "code",
      "metadata": {
        "id": "CuF-DSMaXxkB"
      },
      "source": [
        "titles = 'shakespearePlayTitles.txt'\n",
        "allText = 'shakespeare.txt'\n",
        "textBoundary = '<<NEWTEXTSTARTSHERE>>'\n",
        "\n",
        "playTitles = open(titles, \"r\", encoding=\"utf8\").read()\n",
        "playTitles = playTitles.split(\"\\n\")\n",
        "\n",
        "playScripts = open(allText, \"r\", encoding=\"utf8\").read()\n",
        "playScripts = playScripts.split(textBoundary)"
      ],
      "execution_count": null,
      "outputs": []
    },
    {
      "cell_type": "markdown",
      "source": [
        "##Create the tfidf matrices for each of the plays"
      ],
      "metadata": {
        "id": "1WoghJ95tkF8"
      }
    },
    {
      "cell_type": "code",
      "source": [
        "#Create a list to store tf-idf matrices for each array\n",
        "tfidf_matrices = []\n",
        "\n",
        "# Create TF-IDF vectorizer\n",
        "vectorizer = TfidfVectorizer()\n",
        "\n",
        "# Fit the vectorizer to the play texts and add the matrix to tfidf_matrices\n",
        "for script in playScripts:\n",
        "  tfidf_matrix = vectorizer.fit_transform([script])\n",
        "  tfidf_matrices.append(tfidf_matrix)\n",
        "\n",
        "\n",
        "for matrix in tfidf_matrices:\n",
        "  # Get feature names (unique words in the corpus)\n",
        "  feature_names = vectorizer.get_feature_names_out()\n",
        "\n",
        "  # Print TF-IDF matrix\n",
        "  #print(matrix.toarray())\n",
        "  # Print feature names\n",
        "  #print(feature_names)\n"
      ],
      "metadata": {
        "id": "tiXAyhDhGu1D"
      },
      "execution_count": null,
      "outputs": []
    },
    {
      "cell_type": "markdown",
      "source": [
        "##Kmeans Clustering"
      ],
      "metadata": {
        "id": "1i3QtwVzzuHH"
      }
    },
    {
      "cell_type": "code",
      "source": [
        "#variable to store the number of clusters\n",
        "k = 10\n",
        "\n",
        "# Initialize KMeans with the number of clusters (e.g., k=10)\n",
        "kmeans = KMeans(n_clusters=k, random_state=42)\n",
        "\n",
        "# # Check the shapes of matrices in tfidf_matrices\n",
        "# for i, matrix in enumerate(tfidf_matrices):\n",
        "#     print(f\"Matrix {i} shape:\", matrix.shape)\n",
        "\n",
        "# Assuming tfidf_matrices is a list of sparse TF-IDF matrices, add padding so they all have similar dimensions for clustering\n",
        "padded_matrices = []\n",
        "\n",
        "max_features = max(matrix.shape[1] for matrix in tfidf_matrices)\n",
        "for matrix in tfidf_matrices:\n",
        "    if matrix.shape[1] < max_features:\n",
        "        # Pad the matrix with zeros to match the maximum number of features\n",
        "        padded_matrix = np.zeros((1, max_features))\n",
        "        padded_matrix[:, :matrix.shape[1]] = matrix.toarray()  # Convert to dense matrix for padding\n",
        "    else:\n",
        "        padded_matrix = matrix.toarray()  # Convert to dense if necessary\n",
        "\n",
        "    padded_matrices.append(padded_matrix)  # Keep all matrices dense for concatenation\n",
        "\n",
        "# # Now padded_matrices contains padded dense matrices with the same dimensions\n",
        "# print(\"After padding#############################################################\")\n",
        "# # Check the shapes of matrices in padded_matrices\n",
        "# for i, matrix in enumerate(padded_matrices):\n",
        "#     print(f\"Matrix {i} shape:\", matrix.shape)\n",
        "\n",
        "# Convert padded_matrices to a single NumPy array\n",
        "X = np.vstack(padded_matrices)\n",
        "# Initialize KMeans and fit the model\n",
        "kmeans.fit(X)\n",
        "# Get cluster labels for each document\n",
        "cluster_labels = kmeans.labels_\n",
        "\n",
        "# Create a dictionary to store documents in each cluster\n",
        "clusters_dict = {}\n",
        "for i, title in enumerate(playTitles):\n",
        "    cluster = cluster_labels[i]\n",
        "    if cluster not in clusters_dict:\n",
        "        clusters_dict[cluster] = [title]\n",
        "    else:\n",
        "        clusters_dict[cluster].append(title)\n",
        "\n",
        "\n",
        "# Print documents in each cluster\n",
        "for cluster, titles in clusters_dict.items():\n",
        "    print(f\"Cluster {cluster}:\")\n",
        "    for title in titles:\n",
        "        print(f\"- {title}\")\n",
        "    print()"
      ],
      "metadata": {
        "colab": {
          "base_uri": "https://localhost:8080/"
        },
        "id": "vSQGW3J_0ffL",
        "outputId": "cbb2a23f-18c8-4b0a-b0b6-3cd2fb93bd1a"
      },
      "execution_count": null,
      "outputs": [
        {
          "output_type": "stream",
          "name": "stdout",
          "text": [
            "Cluster 8:\n",
            "- AllsWellThatEndsWell\n",
            "- Coriolanus\n",
            "- KingHenry8\n",
            "- KingRichard3\n",
            "\n",
            "Cluster 6:\n",
            "- AntonyCleopatra\n",
            "- Cymbeline\n",
            "- MacBeth\n",
            "- MeasureForMeasure\n",
            "- RomeoJuliet\n",
            "\n",
            "Cluster 2:\n",
            "- AsYouLikeIt\n",
            "- KingHenry4.1\n",
            "- MerchantVenice\n",
            "\n",
            "Cluster 1:\n",
            "- ComedyErrors\n",
            "- Hamlet\n",
            "- KingJohn\n",
            "- WivesWindsor\n",
            "- MidsummerNightsDream\n",
            "- Pericles\n",
            "\n",
            "Cluster 3:\n",
            "- KingHenry4.2\n",
            "- KingHenry6.2\n",
            "- TitusAndronicus\n",
            "- LoversComplaint\n",
            "- PassionatePilgrim\n",
            "- PhoenixTurtle\n",
            "\n",
            "Cluster 5:\n",
            "- KingHenry5\n",
            "- KingRichard2\n",
            "- TamingShrew\n",
            "\n",
            "Cluster 7:\n",
            "- KingHenry6.1\n",
            "- KingLear\n",
            "- LovesLabourLost\n",
            "- MuchAdo\n",
            "- Othello\n",
            "- TroilusCressida\n",
            "- NobleKinsmen\n",
            "\n",
            "Cluster 4:\n",
            "- KingHenry6.3\n",
            "- Timon\n",
            "- VenusAdonis\n",
            "\n",
            "Cluster 0:\n",
            "- JuliusCaesar\n",
            "\n",
            "Cluster 9:\n",
            "- Tempest\n",
            "- 12Night\n",
            "- GentlemenVerona\n",
            "- WintersTale\n",
            "\n"
          ]
        }
      ]
    },
    {
      "cell_type": "markdown",
      "source": [
        "##Predicting Clusters of new documents"
      ],
      "metadata": {
        "id": "fG-Ih_qQHDpZ"
      }
    },
    {
      "cell_type": "code",
      "source": [
        "#Create the new documents\n",
        "doc1 = \"battle and king\"\n",
        "doc2 = \"wit and love\"\n",
        "\n",
        "#Create new document names\n",
        "doc1_name = \"Document1\"\n",
        "doc2_name = \"Document2\"\n",
        "\n",
        "#Combine texts of new documents\n",
        "new_documents = [doc1, doc2]\n",
        "\n",
        "# Transform new documents into TF-IDF vectors\n",
        "new_tfidf_vectors = vectorizer.transform(new_documents)\n",
        "\n",
        "# Allign new_tfidf_vectors to the older one's dimensions\n",
        "padded_matrices2 = []\n",
        "for matrix in new_tfidf_vectors:\n",
        "    if matrix.shape[1] < max_features:\n",
        "        # Pad the matrix with zeros to match the maximum number of features\n",
        "        padded_matrix = np.zeros((1, max_features))\n",
        "        padded_matrix[:, :matrix.shape[1]] = matrix.toarray()  # Convert to dense matrix for padding\n",
        "    else:\n",
        "        padded_matrix = matrix.toarray()  # Convert to dense if necessary\n",
        "\n",
        "    padded_matrices2.append(padded_matrix)  # Keep all matrices dense for concatenation\n",
        "\n",
        "# # Now padded_matrices contains padded dense matrices with the same dimensions\n",
        "# print(\"After padding#############################################################\")\n",
        "# # Check the shapes of matrices in padded_matrices\n",
        "# for i, matrix in enumerate(padded_matrices):\n",
        "#     print(f\"Matrix {i} shape:\", matrix.shape)\n",
        "\n",
        "# Convert padded_matrices to a single NumPy array\n",
        "X2 = np.vstack(padded_matrices2)\n",
        "\n",
        "# Predict clusters for new documents using the trained KMeans model\n",
        "predicted_clusters = kmeans.predict(X2)\n",
        "\n",
        "# Print the predicted clusters for each new document\n",
        "for i, doc in enumerate(new_documents):\n",
        "    print(f\"Document: {doc}\")\n",
        "    print(f\"Predicted Cluster: {predicted_clusters[i]}\")\n",
        "    print()"
      ],
      "metadata": {
        "colab": {
          "base_uri": "https://localhost:8080/"
        },
        "id": "pLK6708kDYTR",
        "outputId": "6a6f6488-7b40-4d65-c95d-1f8d6b6f9ebc"
      },
      "execution_count": null,
      "outputs": [
        {
          "output_type": "stream",
          "name": "stdout",
          "text": [
            "Document: battle and king\n",
            "Predicted Cluster: 7\n",
            "\n",
            "Document: wit and love\n",
            "Predicted Cluster: 1\n",
            "\n"
          ]
        }
      ]
    },
    {
      "cell_type": "markdown",
      "source": [
        "##Creating a dendogram"
      ],
      "metadata": {
        "id": "DnO8qE2IgBlQ"
      }
    },
    {
      "cell_type": "code",
      "source": [
        "# Perform linkage calculation using Ward's method (or another method if preferred)\n",
        "linkage = sch.linkage(X, method='ward')\n",
        "\n",
        "# Create a dendrogram object\n",
        "dendrogram = sch.dendrogram(linkage, labels=playTitles)  # Use playTitles for labels\n",
        "\n",
        "# Customize and display the dendrogram\n",
        "plt.xlabel(\"Document Index\")\n",
        "plt.ylabel(\"Distance\")\n",
        "plt.title(\"Dendrogram of Play Text Clusters\")\n",
        "plt.show()\n"
      ],
      "metadata": {
        "colab": {
          "base_uri": "https://localhost:8080/",
          "height": 597
        },
        "id": "Mi_vs9NnP4D0",
        "outputId": "4dfa67cc-d463-4ef9-ebf1-0b742cd62dc0"
      },
      "execution_count": null,
      "outputs": [
        {
          "output_type": "display_data",
          "data": {
            "text/plain": [
              "<Figure size 640x480 with 1 Axes>"
            ],
            "image/png": "[encoded data removed]"
          },
          "metadata": {}
        }
      ]
    },
    {
      "cell_type": "code",
      "source": [],
      "metadata": {
        "id": "h9nrli6Od5tL"
      },
      "execution_count": null,
      "outputs": []
    }
  ]
}