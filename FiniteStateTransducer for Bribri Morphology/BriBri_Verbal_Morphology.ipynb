{
  "cells": [
    {
      "cell_type": "markdown",
      "metadata": {
        "id": "cprzw6qF3qmI"
      },
      "source": [
        "# Finite State Transducers\n",
        "Dartmouth College, LING48, Spring 2024<br>\n",
        "Samuel Peter (samuel.peter.25@dartmouth.edu)<br>\n",
        "\n",
        "This program uses the `openfst` and `graphviz` packages:<br>\n",
        "http://www.openfst.org/twiki/bin/view/FST/PythonExtension<br>\n",
        "https://graphviz.readthedocs.io/en/stable/manual.html\n",
        "\n",
        "In this small example, a transductor reads Bribri words and decomposes them morphologically. For example (in English):\n",
        "\n",
        ">cats -> cat-PL<br>\n",
        ">dogs -> dog-PL<br>\n",
        ">cities -> city-PL\n",
        "\n",
        "This program has four parts:\n",
        "\n",
        "(1) First, we have the `symbols`. This is the list of all of the elements you are going to have in the FST. (Practical advice: Make your transitions on paper first, and THEN figure out the symbols as you go).\n",
        "\n",
        "(2) Second, you have the `paths`. This is the list of all the transitions and final states in the FST.\n",
        "\n",
        "(3) These are sent to a function called `spellout`. This function has the string as its input, and then goes character by character, calculating the path through the FST and its corresponding transformations. (You do not need to modify this).\n",
        "\n",
        "(4) Finally, we have a function that prints the FST into a PDF so you can see the transitions graphically. (You do not need to modify this)."
      ]
    },
    {
      "cell_type": "markdown",
      "metadata": {
        "id": "NaaZoJC-pdoK"
      },
      "source": [
        "## Step 1: Load packages and get FST compilation code"
      ]
    },
    {
      "cell_type": "code",
      "execution_count": 34,
      "metadata": {
        "colab": {
          "base_uri": "https://localhost:8080/"
        },
        "id": "zLKDPcXr1rMG",
        "outputId": "82f92231-1f03-4d31-855c-2ade0ebc375b"
      },
      "outputs": [
        {
          "name": "stdout",
          "output_type": "stream",
          "text": [
            "Downloading...\n",
            "From (original): https://drive.google.com/uc?id=1FPs__pexWcLFXH4d8ybDeoUYFfJYa5ay\n",
            "From (redirected): https://drive.google.com/uc?id=1FPs__pexWcLFXH4d8ybDeoUYFfJYa5ay&confirm=t&uuid=dd324573-abe4-465a-a5db-aced7eb5d966\n",
            "To: /content/hw2-fst.py\n",
            "\r  0% 0.00/4.82k [00:00<?, ?B/s]\r100% 4.82k/4.82k [00:00<00:00, 16.1MB/s]\n"
          ]
        }
      ],
      "source": [
        "# Download the code to compile the FST\n",
        "!gdown 1FPs__pexWcLFXH4d8ybDeoUYFfJYa5ay -O /content/hw2-fst.py"
      ]
    },
    {
      "cell_type": "code",
      "execution_count": 35,
      "metadata": {
        "colab": {
          "base_uri": "https://localhost:8080/"
        },
        "id": "dVWbLOIVpV5l",
        "outputId": "54235c4b-a625-4b87-e485-5c2149569622"
      },
      "outputs": [
        {
          "name": "stdout",
          "output_type": "stream",
          "text": [
            "env: PYTHONPATH=\n",
            "\n",
            "--2024-04-12 04:01:11--  https://repo.anaconda.com/miniconda/Miniconda3-py37_4.12.0-Linux-x86_64.sh\n",
            "Resolving repo.anaconda.com (repo.anaconda.com)... 104.16.191.158, 104.16.32.241, 2606:4700::6810:20f1, ...\n",
            "Connecting to repo.anaconda.com (repo.anaconda.com)|104.16.191.158|:443... connected.\n",
            "HTTP request sent, awaiting response... 200 OK\n",
            "Length: 104996770 (100M) [application/x-sh]\n",
            "Saving to: ‘Miniconda3-py37_4.12.0-Linux-x86_64.sh.1’\n",
            "\n",
            "Miniconda3-py37_4.1 100%[===================>] 100.13M   153MB/s    in 0.7s    \n",
            "\n",
            "2024-04-12 04:01:12 (153 MB/s) - ‘Miniconda3-py37_4.12.0-Linux-x86_64.sh.1’ saved [104996770/104996770]\n",
            "\n",
            "PREFIX=/usr/local\n",
            "Unpacking payload ...\n",
            "Collecting package metadata (current_repodata.json): - \b\b\\ \b\bdone\n",
            "Solving environment: / \b\b- \b\b\\ \b\b| \b\b/ \b\bdone\n",
            "\n",
            "# All requested packages already installed.\n",
            "\n",
            "installation finished.\n",
            "Warning: 'bioconda' already in 'channels' list, moving to the top\n",
            "Warning: 'conda-forge' already in 'channels' list, moving to the top\n"
          ]
        }
      ],
      "source": [
        "# This will install Python 3.7 in the virtual computer.\n",
        "# This is needed to run the FST packages\n",
        "# This should take about 40 seconds\n",
        "\n",
        "%env PYTHONPATH=\n",
        "!echo $PYTHONPATH\n",
        "\n",
        "! wget https://repo.anaconda.com/miniconda/Miniconda3-py37_4.12.0-Linux-x86_64.sh\n",
        "! chmod +x Miniconda3-py37_4.12.0-Linux-x86_64.sh\n",
        "! bash ./Miniconda3-py37_4.12.0-Linux-x86_64.sh -b -f -p /usr/local/\n",
        "\n",
        "import sys\n",
        "sys.path.append(\"/usr/local/lib/python3.7/site-packages\")\n",
        "!conda config --add channels bioconda\n",
        "!conda config --add channels conda-forge"
      ]
    },
    {
      "cell_type": "code",
      "execution_count": 36,
      "metadata": {
        "colab": {
          "base_uri": "https://localhost:8080/"
        },
        "id": "VgQMakf-phts",
        "outputId": "e2ed78a9-c04f-4d00-f563-ad8afd118fe4"
      },
      "outputs": [
        {
          "name": "stdout",
          "output_type": "stream",
          "text": [
            "Requirement already satisfied: openfst-python in /usr/local/lib/python3.7/site-packages (1.7.3)\n",
            "\u001b[33mWARNING: Running pip as the 'root' user can result in broken permissions and conflicting behaviour with the system package manager. It is recommended to use a virtual environment instead: https://pip.pypa.io/warnings/venv\u001b[0m\n",
            "Requirement already satisfied: graphviz in /usr/local/lib/python3.7/site-packages (0.20.1)\n",
            "\u001b[33mWARNING: Running pip as the 'root' user can result in broken permissions and conflicting behaviour with the system package manager. It is recommended to use a virtual environment instead: https://pip.pypa.io/warnings/venv\u001b[0m\n"
          ]
        }
      ],
      "source": [
        "# Install the packages needed to build and print the FST\n",
        "!pip install openfst-python\n",
        "!pip install graphviz"
      ]
    },
    {
      "cell_type": "code",
      "execution_count": 37,
      "metadata": {
        "id": "uhbck246r7fC"
      },
      "outputs": [],
      "source": [
        "# A helper function to save a list into a text file\n",
        "def saveListAsFile(inputList, filename):\n",
        "\n",
        "  output = \"\"\n",
        "  for l in inputList:\n",
        "    output = output+l+\"\\n\"\n",
        "  output = output[:-1]\n",
        "\n",
        "  f = open(filename, \"w\")\n",
        "  f.write(output)\n",
        "  f.close()"
      ]
    },
    {
      "cell_type": "markdown",
      "metadata": {
        "id": "CUg0v892p4Tx"
      },
      "source": [
        "## Step 2: Define the symbols of the FST"
      ]
    },
    {
      "cell_type": "markdown",
      "metadata": {
        "id": "0UAu4JGF4aLA"
      },
      "source": [
        "The first element is a symbol in the FST (it can be one or more characters). The second element must be a number."
      ]
    },
    {
      "cell_type": "code",
      "execution_count": 38,
      "metadata": {
        "id": "j33vLu3Fp6f6"
      },
      "outputs": [],
      "source": [
        "morphSymbols = []\n",
        "translateSymbols = []\n",
        "\n",
        "#add all unique symbols needed to complete the morphsymbols FST\n",
        "morphSymbols.append(\"<eps> 0\")\n",
        "morphSymbols.append(\"a 1\")\n",
        "morphSymbols.append(\"l- 2\")\n",
        "morphSymbols.append(\"e 3\")\n",
        "morphSymbols.append(\"H 4\")\n",
        "morphSymbols.append(\"i 5\")\n",
        "morphSymbols.append(\"' 6\")\n",
        "morphSymbols.append(\"o 7\")\n",
        "morphSymbols.append(\"q 8\")\n",
        "morphSymbols.append(\"F 9\")\n",
        "morphSymbols.append(\"k 10\")\n",
        "morphSymbols.append(\"u 11\")\n",
        "morphSymbols.append(\"x 12\")\n",
        "morphSymbols.append(\"r 13\")\n",
        "morphSymbols.append(\"n- 14\")\n",
        "morphSymbols.append(\"l 15\")\n",
        "morphSymbols.append(\"n 16\")\n",
        "morphSymbols.append(\"t 17\")\n",
        "morphSymbols.append(\"s 18\")\n",
        "morphSymbols.append(\"k- 19\")\n",
        "morphSymbols.append(\"b 20\")\n",
        "morphSymbols.append(\"i- 21\")\n",
        "\n",
        "\n",
        "#add all unique symbols needed to complete the translatesymbols FST\n",
        "translateSymbols.append(\"<eps> 0\")\n",
        "translateSymbols.append(\"cook- 1\")\n",
        "translateSymbols.append(\"IPFV 2\")\n",
        "translateSymbols.append(\"INF 3\")\n",
        "translateSymbols.append(\"IMP 4\")\n",
        "translateSymbols.append(\"THEME. 5\")\n",
        "translateSymbols.append(\"PFV.IMPROSP 6\")\n",
        "translateSymbols.append(\"DESIDERATIVE 7\")\n",
        "translateSymbols.append(\"MID 8\")\n",
        "translateSymbols.append(\"-PFV.IMPROSP 9\")\n",
        "translateSymbols.append(\"-INF 10\")\n",
        "translateSymbols.append(\"a 11\")\n",
        "translateSymbols.append(\"l 12\")\n",
        "translateSymbols.append(\"e 13\")\n",
        "translateSymbols.append(\"H 14\")\n",
        "translateSymbols.append(\"i 15\")\n",
        "translateSymbols.append(\"' 16\")\n",
        "translateSymbols.append(\"o 17\")\n",
        "translateSymbols.append(\"q 18\")\n",
        "translateSymbols.append(\"F 19\")\n",
        "translateSymbols.append(\"k 20\")\n",
        "translateSymbols.append(\"u 21\")\n",
        "translateSymbols.append(\"x 22\")\n",
        "translateSymbols.append(\"r 23\")\n",
        "translateSymbols.append(\"n 24\")\n",
        "translateSymbols.append(\".IPFV 25\")\n",
        "translateSymbols.append(\"dig- 26\")\n",
        "translateSymbols.append(\"pop- 27\")\n",
        "translateSymbols.append(\"t 28\")\n",
        "translateSymbols.append(\"s 29\")\n",
        "translateSymbols.append(\"k 30\")\n",
        "translateSymbols.append(\"b 31\")"
      ]
    },
    {
      "cell_type": "markdown",
      "metadata": {
        "id": "IBdadsPN4i1Q"
      },
      "source": [
        "## Step 3: Define the transitions between the states"
      ]
    },
    {
      "cell_type": "markdown",
      "metadata": {
        "id": "uT0UOTAw4tQ-"
      },
      "source": [
        "The first number is the identifier of the start state. The second number is the identifier of the end state.\n",
        "\n",
        "The first sequence of characters is the input symbol. The second sequence of characters is the output symbol."
      ]
    },
    {
      "cell_type": "code",
      "execution_count": 39,
      "metadata": {
        "id": "JVqfHYXPthEz"
      },
      "outputs": [],
      "source": [
        "mPaths = []   # Morpheme transition paths\n",
        "tPaths = []   # Translation transition paths\n",
        "\n",
        "mPaths.append(\"0 1 a a\")           # Transition from state 0 to state 1. You receive an 'a' and return an 'a'\n",
        "mPaths.append(\"1 2 l l-\")          # Transition from state 1 to state 2. You receive an 'l' and return an 'l-'\n",
        "mPaths.append(\"2 3 e e\")           # Transition from state 2 to state 3. You receive an 'e' and return an 'e'\n",
        "mPaths.append(\"3 4 H H\")           # Transition from state 3 to state 4. You receive an 'H' and return an 'H'\n",
        "mPaths.append(\"4\")                 # State 4 is an end state. The FST finished recognizing the word \"aleH\"\n",
        "mPaths.append(\"2 5 i i\")           # Transition from state 2 to state 5. You receive an 'i' and return an 'i'\n",
        "mPaths.append(\"5 6 ' '\")           # Transition from state 5 to state 6. You receive a ' ' and return a ' '\n",
        "mPaths.append(\"6\")                 # State 6 is an end state. The FST finished recognizing the word \"ali'\"\n",
        "mPaths.append(\"2 7 o o\")           # Transition from state 2 to state 7. You receive an 'o' and return an 'o'\n",
        "mPaths.append(\"7 8 q q\")           # Transition from state 7 to state 8. You receive a 'q' and return a 'q'\n",
        "mPaths.append(\"8 9 F F\")           # Transition from state 8 to state 9. You receive an 'F' and return an 'F'\n",
        "mPaths.append(\"9 10 k k\")          # Transition from state 9 to state 10. You receive a 'k' and return a 'k'\n",
        "mPaths.append(\"10\")                # State 10 is an end state. The FST finished recognizing the word \"aloqFk\"\n",
        "mPaths.append(\"9 11 <eps> <eps>\")  # Transition from state 9 to state 11. You receive an '<eps>' and return an '<eps>'\n",
        "mPaths.append(\"11\")                # State 11 is an end state. The FST finished recognizing the word \"aloqF\"\n",
        "mPaths.append(\"2 12 a a\")          # Transition from state 2 to state 12. You receive an 'a' and return an 'a'\n",
        "mPaths.append(\"12 13 ' '\")         # Transition from state 12 to state 13. You receive a ' ' and return a ' '\n",
        "mPaths.append(\"13 14 k k\")         # Transition from state 13 to state 14. You receive a 'k' and return a 'k'\n",
        "mPaths.append(\"14 15 u u\")         # Transition from state 14 to state 15. You receive an 'u' and return an 'u'\n",
        "mPaths.append(\"15 16 x x\")         # Transition from state 15 to state 16. You receive an 'x' and return an 'x'\n",
        "mPaths.append(\"16\")                # State 16 is an end state. The FST finished recognizing the word \"ala'kux\"\n",
        "mPaths.append(\"5 17 H H\")          # Transition from state 5 to state 17. You receive an 'H' and return an 'H'\n",
        "mPaths.append(\"17 18 r r\")         # Transition from state 17 to state 18. You receive an 'r' and return an 'r'\n",
        "mPaths.append(\"18\")                # State 18 is an end state. The FST finished recognizing the word \"aliHr\"\n",
        "mPaths.append(\"17 19 n n-\")        # Transition from state 17 to state 19. You receive an 'n' and return an 'n-'\n",
        "mPaths.append(\"19 20 e e\")         # Transition from state 19 to state 20. You receive an 'e' and return an 'e'\n",
        "mPaths.append(\"20 21 x x\")         # Transition from state 20 to state 21. You receive an 'x' and return an 'x'\n",
        "mPaths.append(\"21\")                # State 21 is an end state. The FST finished recognizing the word \"aliHnex\"\n",
        "mPaths.append(\"19 22 u u\")         # Transition from state 19 to state 22. You receive a 'u' and return a 'u'\n",
        "mPaths.append(\"22 23 x x\")         # Transition from state 22 to state 23. You receive an 'x' and return an 'x'\n",
        "mPaths.append(\"23 24 k k\")         # Transition from state 23 to state 24. You receive a 'k' and return a 'k'\n",
        "mPaths.append(\"24\")                # State 24 is an end state. The FST finished recognizing the word \"aliHnuxk\"\n",
        "###################################################################################################################\n",
        "mPaths.append(\"0 25 t t\")         # Transition from state 23 to state 24. You receive a 'k' and return a 'k'\n",
        "mPaths.append(\"25 26 s s\")         # Transition from state 23 to state 24. You receive a 'k' and return a 'k'\n",
        "mPaths.append(\"26 27 a a\")         # Transition from state 23 to state 24. You receive a 'k' and return a 'k'\n",
        "mPaths.append(\"27 2 k k-\")         # Transition from state 23 to state 24. You receive a 'k' and return a 'k'\n",
        "mPaths.append(\"0 28 b b\")         # Transition from state 23 to state 24. You receive a 'k' and return a 'k'\n",
        "mPaths.append(\"28 2 i i-\")         # Transition from state 23 to state 24. You receive a 'k' and return a 'k'\n",
        "\n",
        "\n",
        "\n",
        "tPaths.append(\"0 1 a <eps>\")           # Transition from state 0 to state 1. You receive a 'a' and return a epsilon.\n",
        "tPaths.append(\"1 2 l cook-\")           # Transition from state 1 to state 2. You receive an 'l' and return a 'cook-'\n",
        "tPaths.append(\"2 3 e <eps>\")           # Transition from state 2 to state 3. You receive a 'e' and return a epsilon.\n",
        "tPaths.append(\"3 4 H IPFV\")            # Transition from state 3 to state 4. You receive a 'H' and return 'IPFV'.\n",
        "tPaths.append(\"4\")                 # State 4 is an end state. The FST finished recognizing the word \"cook-IPFV\"\n",
        "tPaths.append(\"2 7 o <eps>\")           # Transition from state 2 to state 7. You receive a '0' and return a epsilon\n",
        "tPaths.append(\"7 8 q <eps>\")           # Transition from state 7 to state 8. You receive a 'q' and return a epsilon\n",
        "tPaths.append(\"8 9 F <eps>\")           # Transition from state 8 to state 9. You receive a 'F' and return a epsilon\n",
        "tPaths.append(\"9 10 k INF\")           # Transition from state 9 to state 10. You receive a 'k' and return a INF\n",
        "tPaths.append(\"10\")                 # State 10 is an end state. The FST finished recognizing the word cook-INF\n",
        "tPaths.append(\"9 11 <eps> IMP\")           # Transition from state 9 to state 11. You receive a epsilon and return a epsilon\n",
        "tPaths.append(\"11\")                 # State 11 is an end state. The FST finished recognizing the word cook-IMP\n",
        "tPaths.append(\"2 12 a <eps>\")           # Transition from state 2 to state 12. You receive a 'a' and return a epsilon\n",
        "tPaths.append(\"12 13 ' <eps>\")           # Transition from state 12 to state 13. You receive a ''' and return a epsilon\n",
        "tPaths.append(\"13 14 k <eps>\")           # Transition from state 13 to state 14. You receive a 'k' and return a epsilon\n",
        "tPaths.append(\"14 15 u <eps>\")           # Transition from state 14 to state 15. You receive a 'u' and return a epsilon\n",
        "tPaths.append(\"15 16 x DESIDERATIVE\")           # Transition from state 15 to state 16. You receive a 'x' and return DESIDERATIVE\n",
        "tPaths.append(\"16\")                 # State 16 is an end state. The FST finished recognizing the word cook-DESIDERATIVE\n",
        "tPaths.append(\"2 5 i THEME.\")           # Transition from state 2 to state 5. You receive a 'i' and return THEME.\n",
        "tPaths.append(\"5 6 ' PFV.IMPROSP\")           # Transition from state 5 to state 6. You receive a ''' and return PFV.IMPROSP\n",
        "tPaths.append(\"6\")                 # State 6 is an end state. The FST finished recognizing the word cook-PFV.IMPROSP\n",
        "tPaths.append(\"5 17 H MID\")           # Transition from state 5 to state 17. You receive a 'H' and return MID\n",
        "tPaths.append(\"17 18 r .IPFV\")           # Transition from state 17 to state 18. You receive a 'r' and return .IPFV\n",
        "tPaths.append(\"18\")                 # State 18 is an end state. The FST finished recognizing the word cook-THEME.MID.IPFV\n",
        "tPaths.append(\"17 19 n <eps>\")           # Transition from state 17 to state 19. You receive a 'n' and return epsilon\n",
        "tPaths.append(\"19 20 e <eps>\")           # Transition from state 19 to state 20. You receive a 't' and return epsilon\n",
        "tPaths.append(\"20 21 x -PFV.IMPROSP\")           # Transition from state 20 to state 21. You receive a 'x' and return -PFV.IMPROSP\n",
        "tPaths.append(\"21\")                 # State 21 is an end state. The FST finished recognizing the word cook-THEME.MID-PFV.IMPROSP\n",
        "tPaths.append(\"19 22 u <eps>\")           # Transition from state 19 to state 22. You receive a 'u' and return epsilon\n",
        "tPaths.append(\"22 23 x <eps>\")           # Transition from state 22 to state 23. You receive a 'x' and return epsilon\n",
        "tPaths.append(\"23 24 k -INF\")           # Transition from state 23 to state 24. You receive a 'k' and return _INF\n",
        "tPaths.append(\"24\")                 # State 24 is an end state. The FST finished recognizing the word cook-THEME.MID-INF\n",
        "################################################################################################################################\n",
        "tPaths.append(\"0 25 t <eps>\")           # Transition from state 23 to state 24. You receive a 'k' and return _INF\n",
        "tPaths.append(\"25 26 s <eps>\")           # Transition from state 23 to state 24. You receive a 'k' and return _INF\n",
        "tPaths.append(\"26 27 a <eps>\")           # Transition from state 23 to state 24. You receive a 'k' and return _INF\n",
        "tPaths.append(\"27 2 k pop-\")           # Transition from state 23 to state 24. You receive a 'k' and return _INF\n",
        "tPaths.append(\"0 28 b <eps>\")           # Transition from state 23 to state 24. You receive a 'k' and return _INF\n",
        "tPaths.append(\"28 2 i dig-\")           # Transition from state 23 to state 24. You receive a 'k' and return _INF\n"
      ]
    },
    {
      "cell_type": "code",
      "execution_count": 40,
      "metadata": {
        "id": "vunJQXZHsKrk"
      },
      "outputs": [],
      "source": [
        "# Save the symbols and transitions into files\n",
        "saveListAsFile(morphSymbols, \"/content/morphSymbols.txt\")\n",
        "saveListAsFile(translateSymbols, \"/content/translateSymbols.txt\")\n",
        "saveListAsFile(mPaths, \"/content/mPaths.txt\")\n",
        "saveListAsFile(tPaths, \"/content/tPaths.txt\")"
      ]
    },
    {
      "cell_type": "code",
      "execution_count": 41,
      "metadata": {
        "id": "pYIDKyUD9Uoy"
      },
      "outputs": [],
      "source": [
        "# This function returns three variables:\n",
        "# (1) The word itself\n",
        "# (2) The word split by morphemes\n",
        "# (3) The word with the translation of its morphemes\n",
        "\n",
        "import os.path\n",
        "\n",
        "def getAnalysis(word):\n",
        "\n",
        "  if (os.path.isfile(\"/content/output-split.txt\")):\n",
        "    !rm output-split.txt\n",
        "  if (os.path.isfile(\"/content/output-translation.txt\")):\n",
        "    !rm output-translation.txt\n",
        "  if (os.path.isfile(\"/content/wordToAnalyze.txt\")):\n",
        "    !rm wordToAnalyze.txt\n",
        "\n",
        "  f = open(\"wordToAnalyze.txt\", \"w\")\n",
        "  f.write(word)\n",
        "  f.close()\n",
        "\n",
        "  !python hw2-fst.py\n",
        "\n",
        "  try: splitWord = open(\"output-split.txt\", \"r\").read()\n",
        "  except: splitWord = \"\"\n",
        "\n",
        "  try: wordTranslation = open(\"output-translation.txt\", \"r\").read()\n",
        "  except: wordTranslation = \"\"\n",
        "\n",
        "  return(word, splitWord, wordTranslation)"
      ]
    },
    {
      "cell_type": "markdown",
      "metadata": {
        "id": "mVtqhI_a4_UP"
      },
      "source": [
        "## Step 4: Compile and query the FST"
      ]
    },
    {
      "cell_type": "markdown",
      "metadata": {
        "id": "pMaguYFY5BAk"
      },
      "source": [
        "Here are a few examples of how you can get an analysis from the FST."
      ]
    },
    {
      "cell_type": "code",
      "execution_count": 42,
      "metadata": {
        "colab": {
          "base_uri": "https://localhost:8080/"
        },
        "id": "EpIwm-_x0BHU",
        "outputId": "4f148112-6e7d-417c-f1d2-e9d75035ea7f"
      },
      "outputs": [
        {
          "name": "stdout",
          "output_type": "stream",
          "text": [
            "('aleH', 'al-eH', 'cook-IPFV')\n"
          ]
        }
      ],
      "source": [
        "word = \"aleH\"\n",
        "print(getAnalysis(word))"
      ]
    },
    {
      "cell_type": "code",
      "execution_count": 43,
      "metadata": {
        "colab": {
          "base_uri": "https://localhost:8080/"
        },
        "id": "56DgXDtGrK6t",
        "outputId": "63b6d69a-336b-4731-950e-1341924f051b"
      },
      "outputs": [
        {
          "name": "stdout",
          "output_type": "stream",
          "text": [
            "(\"ali'\", \"al-i'\", 'cook-THEME.PFV.IMPROSP')\n"
          ]
        }
      ],
      "source": [
        "word = \"ali'\"\n",
        "print(getAnalysis(word))"
      ]
    },
    {
      "cell_type": "code",
      "execution_count": 44,
      "metadata": {
        "colab": {
          "base_uri": "https://localhost:8080/"
        },
        "id": "svOuuccA0cdm",
        "outputId": "20c919a8-1325-4f9b-bc43-25e5d3fb4ce8"
      },
      "outputs": [
        {
          "name": "stdout",
          "output_type": "stream",
          "text": [
            "('aloqFk', 'al-oqFk', 'cook-INF')\n"
          ]
        }
      ],
      "source": [
        "word = \"aloqFk\"\n",
        "print(getAnalysis(word))"
      ]
    },
    {
      "cell_type": "code",
      "execution_count": 45,
      "metadata": {
        "colab": {
          "base_uri": "https://localhost:8080/"
        },
        "id": "YyMtMhHI7KV7",
        "outputId": "f942b8dd-dbee-4e7d-9b20-9f831f635012"
      },
      "outputs": [
        {
          "name": "stdout",
          "output_type": "stream",
          "text": [
            "('aloqF', 'al-oqF', 'cook-IMP')\n"
          ]
        }
      ],
      "source": [
        "word = \"aloqF\"\n",
        "print(getAnalysis(word))"
      ]
    },
    {
      "cell_type": "code",
      "execution_count": 46,
      "metadata": {
        "colab": {
          "base_uri": "https://localhost:8080/"
        },
        "id": "p27K9Y-K7MCx",
        "outputId": "2709b871-9b0c-41a4-9de9-5932817b09a9"
      },
      "outputs": [
        {
          "name": "stdout",
          "output_type": "stream",
          "text": [
            "(\"ala'kux\", \"al-a'kux\", 'cook-DESIDERATIVE')\n"
          ]
        }
      ],
      "source": [
        "word = \"ala'kux\"\n",
        "print(getAnalysis(word))"
      ]
    },
    {
      "cell_type": "code",
      "execution_count": 47,
      "metadata": {
        "colab": {
          "base_uri": "https://localhost:8080/"
        },
        "id": "C3uMrI-97QF7",
        "outputId": "b43db800-5040-4e2f-e5a8-5a4ac144e1ec"
      },
      "outputs": [
        {
          "name": "stdout",
          "output_type": "stream",
          "text": [
            "('aliHr', 'al-iHr', 'cook-THEME.MID.IPFV')\n"
          ]
        }
      ],
      "source": [
        "word = \"aliHr\"\n",
        "print(getAnalysis(word))"
      ]
    },
    {
      "cell_type": "code",
      "execution_count": 48,
      "metadata": {
        "colab": {
          "base_uri": "https://localhost:8080/"
        },
        "id": "xRT3YpRc7Svu",
        "outputId": "510ec94d-834d-430a-ad53-f2e81bd18168"
      },
      "outputs": [
        {
          "name": "stdout",
          "output_type": "stream",
          "text": [
            "('aliHnex', 'al-iHn-ex', 'cook-THEME.MID-PFV.IMPROSP')\n"
          ]
        }
      ],
      "source": [
        "word = \"aliHnex\"\n",
        "print(getAnalysis(word))"
      ]
    },
    {
      "cell_type": "code",
      "execution_count": 49,
      "metadata": {
        "colab": {
          "base_uri": "https://localhost:8080/"
        },
        "id": "SLH6_ZvD7WgT",
        "outputId": "9a8a9d85-1528-4e0a-b478-a2706ee1e38e"
      },
      "outputs": [
        {
          "name": "stdout",
          "output_type": "stream",
          "text": [
            "('aliHnuxk', 'al-iHn-uxk', 'cook-THEME.MID-INF')\n"
          ]
        }
      ],
      "source": [
        "word = \"aliHnuxk\"\n",
        "print(getAnalysis(word))"
      ]
    },
    {
      "cell_type": "code",
      "execution_count": 50,
      "metadata": {
        "colab": {
          "base_uri": "https://localhost:8080/"
        },
        "id": "6wvcSQq0dX94",
        "outputId": "dce300dc-19c7-49c9-ead8-4dff1b0169bb"
      },
      "outputs": [
        {
          "name": "stdout",
          "output_type": "stream",
          "text": [
            "('tsakoqFk', 'tsak-oqFk', 'pop-INF')\n"
          ]
        }
      ],
      "source": [
        "word = \"tsakoqFk\"\n",
        "print(getAnalysis(word))"
      ]
    },
    {
      "cell_type": "code",
      "execution_count": 51,
      "metadata": {
        "colab": {
          "base_uri": "https://localhost:8080/"
        },
        "id": "KmJdShtcdZ3E",
        "outputId": "ca0dd3ba-07fe-422d-ae95-da56305fc163"
      },
      "outputs": [
        {
          "name": "stdout",
          "output_type": "stream",
          "text": [
            "('bioqFk', 'bi-oqFk', 'dig-INF')\n"
          ]
        }
      ],
      "source": [
        "word = \"bioqFk\"\n",
        "print(getAnalysis(word))"
      ]
    },
    {
      "cell_type": "markdown",
      "metadata": {
        "id": "OBdSc7wh5oR_"
      },
      "source": [
        "## Optional: Download the FSTs"
      ]
    },
    {
      "cell_type": "markdown",
      "metadata": {
        "id": "nt8VlhEk5qaJ"
      },
      "source": [
        "The Python file that compiles the FST created a PDF file with the FST. You can download them here."
      ]
    },
    {
      "cell_type": "code",
      "execution_count": 52,
      "metadata": {
        "id": "7lxVGWLz57Ph"
      },
      "outputs": [],
      "source": [
        "from google.colab import files"
      ]
    },
    {
      "cell_type": "code",
      "execution_count": 53,
      "metadata": {
        "colab": {
          "base_uri": "https://localhost:8080/",
          "height": 17
        },
        "id": "deGUBIm250Hz",
        "outputId": "5f0486e8-6933-45fd-db11-74356c8734fb"
      },
      "outputs": [
        {
          "data": {
            "application/javascript": "\n    async function download(id, filename, size) {\n      if (!google.colab.kernel.accessAllowed) {\n        return;\n      }\n      const div = document.createElement('div');\n      const label = document.createElement('label');\n      label.textContent = `Downloading \"${filename}\": `;\n      div.appendChild(label);\n      const progress = document.createElement('progress');\n      progress.max = size;\n      div.appendChild(progress);\n      document.body.appendChild(div);\n\n      const buffers = [];\n      let downloaded = 0;\n\n      const channel = await google.colab.kernel.comms.open(id);\n      // Send a message to notify the kernel that we're ready.\n      channel.send({})\n\n      for await (const message of channel.messages) {\n        // Send a message to notify the kernel that we're ready.\n        channel.send({})\n        if (message.buffers) {\n          for (const buffer of message.buffers) {\n            buffers.push(buffer);\n            downloaded += buffer.byteLength;\n            progress.value = downloaded;\n          }\n        }\n      }\n      const blob = new Blob(buffers, {type: 'application/binary'});\n      const a = document.createElement('a');\n      a.href = window.URL.createObjectURL(blob);\n      a.download = filename;\n      div.appendChild(a);\n      a.click();\n      div.remove();\n    }\n  ",
            "text/plain": [
              "<IPython.core.display.Javascript object>"
            ]
          },
          "metadata": {},
          "output_type": "display_data"
        },
        {
          "data": {
            "application/javascript": "download(\"download_eba2b4ab-80de-425e-8986-8ec9a5b0d9d4\", \"morph.gv.pdf\", 16793)",
            "text/plain": [
              "<IPython.core.display.Javascript object>"
            ]
          },
          "metadata": {},
          "output_type": "display_data"
        }
      ],
      "source": [
        "files.download('morph.gv.pdf')"
      ]
    },
    {
      "cell_type": "code",
      "execution_count": 54,
      "metadata": {
        "colab": {
          "base_uri": "https://localhost:8080/",
          "height": 17
        },
        "id": "O1QR2rW15n18",
        "outputId": "23a13bed-efa7-4c46-eead-faaed6257d73"
      },
      "outputs": [
        {
          "data": {
            "application/javascript": "\n    async function download(id, filename, size) {\n      if (!google.colab.kernel.accessAllowed) {\n        return;\n      }\n      const div = document.createElement('div');\n      const label = document.createElement('label');\n      label.textContent = `Downloading \"${filename}\": `;\n      div.appendChild(label);\n      const progress = document.createElement('progress');\n      progress.max = size;\n      div.appendChild(progress);\n      document.body.appendChild(div);\n\n      const buffers = [];\n      let downloaded = 0;\n\n      const channel = await google.colab.kernel.comms.open(id);\n      // Send a message to notify the kernel that we're ready.\n      channel.send({})\n\n      for await (const message of channel.messages) {\n        // Send a message to notify the kernel that we're ready.\n        channel.send({})\n        if (message.buffers) {\n          for (const buffer of message.buffers) {\n            buffers.push(buffer);\n            downloaded += buffer.byteLength;\n            progress.value = downloaded;\n          }\n        }\n      }\n      const blob = new Blob(buffers, {type: 'application/binary'});\n      const a = document.createElement('a');\n      a.href = window.URL.createObjectURL(blob);\n      a.download = filename;\n      div.appendChild(a);\n      a.click();\n      div.remove();\n    }\n  ",
            "text/plain": [
              "<IPython.core.display.Javascript object>"
            ]
          },
          "metadata": {},
          "output_type": "display_data"
        },
        {
          "data": {
            "application/javascript": "download(\"download_83903c43-14f9-47be-8f1d-86942d3082ad\", \"translate.gv.pdf\", 20663)",
            "text/plain": [
              "<IPython.core.display.Javascript object>"
            ]
          },
          "metadata": {},
          "output_type": "display_data"
        }
      ],
      "source": [
        "files.download('translate.gv.pdf')"
      ]
    },
    {
      "cell_type": "code",
      "execution_count": 54,
      "metadata": {
        "id": "1gevIGHuWgT0"
      },
      "outputs": [],
      "source": []
    }
  ],
  "metadata": {
    "accelerator": "TPU",
    "colab": {
      "gpuType": "V28",
      "provenance": []
    },
    "kernelspec": {
      "display_name": "Python 3",
      "name": "python3"
    },
    "language_info": {
      "name": "python"
    }
  },
  "nbformat": 4,
  "nbformat_minor": 0
}
